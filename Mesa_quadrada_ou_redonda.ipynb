{
  "nbformat": 4,
  "nbformat_minor": 0,
  "metadata": {
    "colab": {
      "provenance": [],
      "collapsed_sections": [],
      "authorship_tag": "ABX9TyPsGxIlnIyBkzY4LxHODLoi"
    },
    "kernelspec": {
      "name": "python3",
      "display_name": "Python 3"
    },
    "language_info": {
      "name": "python"
    }
  },
  "cells": [
    {
      "cell_type": "code",
      "execution_count": null,
      "metadata": {
        "id": "U3vlfEYtH3-X"
      },
      "outputs": [],
      "source": [
        "minimum_people = 4\n",
        "maximum_people = 30"
      ]
    },
    {
      "cell_type": "code",
      "source": [
        "from math import sqrt\n",
        "\n",
        "def rectangle_table_distance(seat_distance, screaming_distance, people, verbose=False):\n",
        "  if people % 2 == 1:\n",
        "    raise Exception(\"Seats only pairs\")\n",
        "\n",
        "  distance = 0\n",
        "  in_distance = 0\n",
        "\n",
        "  # the person in front of you is in distance\n",
        "  if screaming_distance <= 0.8:\n",
        "    in_distance += 1\n",
        "\n",
        "  for p in range(2, int(people / 2) + 1):\n",
        "    delta = p - 1\n",
        "\n",
        "    # same side\n",
        "    d1 = delta * seat_distance\n",
        "\n",
        "    if d1 <= screaming_distance:\n",
        "      in_distance += 1\n",
        "\n",
        "    # other side\n",
        "    d2 = sqrt((delta * seat_distance) ** 2 + 0.8 ** 2)\n",
        "\n",
        "    if verbose:\n",
        "      print(f\"Dist to {p} is delta={delta}\")\n",
        "\n",
        "    if d2 <= screaming_distance:\n",
        "      in_distance += 1\n",
        "\n",
        "    distance += d1 + d2\n",
        "\n",
        "  return distance, in_distance + 1"
      ],
      "metadata": {
        "id": "Bx2DMRwAIEMs"
      },
      "execution_count": null,
      "outputs": []
    },
    {
      "cell_type": "code",
      "source": [
        "seat_distance = 0.8\n",
        "screaming_distance = 3\n",
        "\n",
        "print(4, rectangle_table_distance(seat_distance, screaming_distance, 4, verbose=True))\n",
        "print(6, rectangle_table_distance(seat_distance, screaming_distance, 6, verbose=True))"
      ],
      "metadata": {
        "colab": {
          "base_uri": "https://localhost:8080/"
        },
        "id": "9zt_nX07K_T6",
        "outputId": "dad7519d-6f60-40e4-fed9-9be9ffc75e1a"
      },
      "execution_count": null,
      "outputs": [
        {
          "output_type": "stream",
          "name": "stdout",
          "text": [
            "Dist to 2 is delta=1\n",
            "4 (1.9313708498984763, 3)\n",
            "Dist to 2 is delta=1\n",
            "Dist to 3 is delta=2\n",
            "6 (5.320225231898308, 5)\n"
          ]
        }
      ]
    },
    {
      "cell_type": "code",
      "source": [
        "from math import pi, sin\n",
        "\n",
        "def round_table_distance(seat_distance, screaming_distance, people, verbose=False):\n",
        "  if people % 2 == 1:\n",
        "    raise Exception(\"Seats only pairs\")\n",
        "  \n",
        "  two_pi_r = seat_distance * people\n",
        "  r = two_pi_r / (2 * pi)\n",
        "\n",
        "  theta = (2 * pi) / people\n",
        "\n",
        "  if verbose:\n",
        "    print(f\"people={people} R={r} pi={pi} theta={theta}\")\n",
        "\n",
        "  distance = 0\n",
        "  in_distance = 0\n",
        "\n",
        "  for p in range(2, people + 1):\n",
        "    delta = p - 1\n",
        "    # https://www.quora.com/How-does-one-calculate-the-straight-line-distance-between-two-points-on-a-circle-if-the-radius-and-arc-length-are-known\n",
        "    p_theta = theta * delta\n",
        "    a = r * p_theta\n",
        "    d = 2 * r * sin(a / (2 * r))\n",
        "\n",
        "    if d <= screaming_distance:\n",
        "      in_distance += 1\n",
        "\n",
        "    if verbose:\n",
        "      print(f\"Dist to {p} is delta={delta} p_theta={p_theta} a={a} d={d}\")\n",
        "    distance += d\n",
        "\n",
        "  return distance, in_distance"
      ],
      "metadata": {
        "id": "aJcRMXVAL-VI"
      },
      "execution_count": null,
      "outputs": []
    },
    {
      "cell_type": "code",
      "source": [
        "print(4, round_table_distance(seat_distance, screaming_distance, 4, verbose=True))\n",
        "print(6, round_table_distance(seat_distance, screaming_distance, 6, verbose=True))"
      ],
      "metadata": {
        "colab": {
          "base_uri": "https://localhost:8080/"
        },
        "id": "9VdcuejdOeDm",
        "outputId": "8cf4e540-29dc-444a-afba-7788c5cdb0c7"
      },
      "execution_count": null,
      "outputs": [
        {
          "output_type": "stream",
          "name": "stdout",
          "text": [
            "people=4 R=0.5092958178940651 pi=3.141592653589793 theta=1.5707963267948966\n",
            "Dist to 2 is delta=1 p_theta=1.5707963267948966 a=0.7999999999999999 d=0.7202530529256848\n",
            "Dist to 3 is delta=2 p_theta=3.141592653589793 a=1.5999999999999999 d=1.0185916357881302\n",
            "Dist to 4 is delta=3 p_theta=4.71238898038469 a=2.4 d=0.7202530529256849\n",
            "4 (2.4590977416395, 3)\n",
            "people=6 R=0.7639437268410978 pi=3.141592653589793 theta=1.0471975511965976\n",
            "Dist to 2 is delta=1 p_theta=1.0471975511965976 a=0.8000000000000002 d=0.7639437268410977\n",
            "Dist to 3 is delta=2 p_theta=2.0943951023931953 a=1.6000000000000003 d=1.3231893490123012\n",
            "Dist to 4 is delta=3 p_theta=3.141592653589793 a=2.4000000000000004 d=1.5278874536821956\n",
            "Dist to 5 is delta=4 p_theta=4.1887902047863905 a=3.2000000000000006 d=1.3231893490123012\n",
            "Dist to 6 is delta=5 p_theta=5.235987755982988 a=4.0 d=0.7639437268410983\n",
            "6 (5.702153605388994, 5)\n"
          ]
        }
      ]
    },
    {
      "cell_type": "code",
      "source": [
        "# variando o numero de pessoas\n",
        "import pandas as pd\n",
        "\n",
        "def parse_for(screaming_distance):\n",
        "  results = []\n",
        "  for p in range(minimum_people, maximum_people + 1, 2):\n",
        "    rec = rectangle_table_distance(seat_distance, screaming_distance, p)\n",
        "    rou = round_table_distance(seat_distance, screaming_distance, p)\n",
        "    results.append([p, \"rectangle\", *rec])\n",
        "    results.append([p, \"round\", *rou])\n",
        "  results = pd.DataFrame(results, columns=[\"people\", \"form\", \"distance\", \"scream\"])\n",
        "  return results\n",
        "\n",
        "results = parse_for(screaming_distance)\n",
        "results.head()"
      ],
      "metadata": {
        "colab": {
          "base_uri": "https://localhost:8080/",
          "height": 206
        },
        "id": "7aLUQTyfJy0x",
        "outputId": "7e13ffb0-85b8-4099-c1cd-4e1a85a6d3c4"
      },
      "execution_count": null,
      "outputs": [
        {
          "output_type": "execute_result",
          "data": {
            "text/plain": [
              "   people       form   distance  scream\n",
              "0       4  rectangle   1.931371       3\n",
              "1       4      round   2.459098       3\n",
              "2       6  rectangle   5.320225       5\n",
              "3       6      round   5.702154       5\n",
              "4       8  rectangle  10.250047       7"
            ],
            "text/html": [
              "\n",
              "  <div id=\"df-dca99617-9048-4092-8143-9de2351534ee\">\n",
              "    <div class=\"colab-df-container\">\n",
              "      <div>\n",
              "<style scoped>\n",
              "    .dataframe tbody tr th:only-of-type {\n",
              "        vertical-align: middle;\n",
              "    }\n",
              "\n",
              "    .dataframe tbody tr th {\n",
              "        vertical-align: top;\n",
              "    }\n",
              "\n",
              "    .dataframe thead th {\n",
              "        text-align: right;\n",
              "    }\n",
              "</style>\n",
              "<table border=\"1\" class=\"dataframe\">\n",
              "  <thead>\n",
              "    <tr style=\"text-align: right;\">\n",
              "      <th></th>\n",
              "      <th>people</th>\n",
              "      <th>form</th>\n",
              "      <th>distance</th>\n",
              "      <th>scream</th>\n",
              "    </tr>\n",
              "  </thead>\n",
              "  <tbody>\n",
              "    <tr>\n",
              "      <th>0</th>\n",
              "      <td>4</td>\n",
              "      <td>rectangle</td>\n",
              "      <td>1.931371</td>\n",
              "      <td>3</td>\n",
              "    </tr>\n",
              "    <tr>\n",
              "      <th>1</th>\n",
              "      <td>4</td>\n",
              "      <td>round</td>\n",
              "      <td>2.459098</td>\n",
              "      <td>3</td>\n",
              "    </tr>\n",
              "    <tr>\n",
              "      <th>2</th>\n",
              "      <td>6</td>\n",
              "      <td>rectangle</td>\n",
              "      <td>5.320225</td>\n",
              "      <td>5</td>\n",
              "    </tr>\n",
              "    <tr>\n",
              "      <th>3</th>\n",
              "      <td>6</td>\n",
              "      <td>round</td>\n",
              "      <td>5.702154</td>\n",
              "      <td>5</td>\n",
              "    </tr>\n",
              "    <tr>\n",
              "      <th>4</th>\n",
              "      <td>8</td>\n",
              "      <td>rectangle</td>\n",
              "      <td>10.250047</td>\n",
              "      <td>7</td>\n",
              "    </tr>\n",
              "  </tbody>\n",
              "</table>\n",
              "</div>\n",
              "      <button class=\"colab-df-convert\" onclick=\"convertToInteractive('df-dca99617-9048-4092-8143-9de2351534ee')\"\n",
              "              title=\"Convert this dataframe to an interactive table.\"\n",
              "              style=\"display:none;\">\n",
              "        \n",
              "  <svg xmlns=\"http://www.w3.org/2000/svg\" height=\"24px\"viewBox=\"0 0 24 24\"\n",
              "       width=\"24px\">\n",
              "    <path d=\"M0 0h24v24H0V0z\" fill=\"none\"/>\n",
              "    <path d=\"M18.56 5.44l.94 2.06.94-2.06 2.06-.94-2.06-.94-.94-2.06-.94 2.06-2.06.94zm-11 1L8.5 8.5l.94-2.06 2.06-.94-2.06-.94L8.5 2.5l-.94 2.06-2.06.94zm10 10l.94 2.06.94-2.06 2.06-.94-2.06-.94-.94-2.06-.94 2.06-2.06.94z\"/><path d=\"M17.41 7.96l-1.37-1.37c-.4-.4-.92-.59-1.43-.59-.52 0-1.04.2-1.43.59L10.3 9.45l-7.72 7.72c-.78.78-.78 2.05 0 2.83L4 21.41c.39.39.9.59 1.41.59.51 0 1.02-.2 1.41-.59l7.78-7.78 2.81-2.81c.8-.78.8-2.07 0-2.86zM5.41 20L4 18.59l7.72-7.72 1.47 1.35L5.41 20z\"/>\n",
              "  </svg>\n",
              "      </button>\n",
              "      \n",
              "  <style>\n",
              "    .colab-df-container {\n",
              "      display:flex;\n",
              "      flex-wrap:wrap;\n",
              "      gap: 12px;\n",
              "    }\n",
              "\n",
              "    .colab-df-convert {\n",
              "      background-color: #E8F0FE;\n",
              "      border: none;\n",
              "      border-radius: 50%;\n",
              "      cursor: pointer;\n",
              "      display: none;\n",
              "      fill: #1967D2;\n",
              "      height: 32px;\n",
              "      padding: 0 0 0 0;\n",
              "      width: 32px;\n",
              "    }\n",
              "\n",
              "    .colab-df-convert:hover {\n",
              "      background-color: #E2EBFA;\n",
              "      box-shadow: 0px 1px 2px rgba(60, 64, 67, 0.3), 0px 1px 3px 1px rgba(60, 64, 67, 0.15);\n",
              "      fill: #174EA6;\n",
              "    }\n",
              "\n",
              "    [theme=dark] .colab-df-convert {\n",
              "      background-color: #3B4455;\n",
              "      fill: #D2E3FC;\n",
              "    }\n",
              "\n",
              "    [theme=dark] .colab-df-convert:hover {\n",
              "      background-color: #434B5C;\n",
              "      box-shadow: 0px 1px 3px 1px rgba(0, 0, 0, 0.15);\n",
              "      filter: drop-shadow(0px 1px 2px rgba(0, 0, 0, 0.3));\n",
              "      fill: #FFFFFF;\n",
              "    }\n",
              "  </style>\n",
              "\n",
              "      <script>\n",
              "        const buttonEl =\n",
              "          document.querySelector('#df-dca99617-9048-4092-8143-9de2351534ee button.colab-df-convert');\n",
              "        buttonEl.style.display =\n",
              "          google.colab.kernel.accessAllowed ? 'block' : 'none';\n",
              "\n",
              "        async function convertToInteractive(key) {\n",
              "          const element = document.querySelector('#df-dca99617-9048-4092-8143-9de2351534ee');\n",
              "          const dataTable =\n",
              "            await google.colab.kernel.invokeFunction('convertToInteractive',\n",
              "                                                     [key], {});\n",
              "          if (!dataTable) return;\n",
              "\n",
              "          const docLinkHtml = 'Like what you see? Visit the ' +\n",
              "            '<a target=\"_blank\" href=https://colab.research.google.com/notebooks/data_table.ipynb>data table notebook</a>'\n",
              "            + ' to learn more about interactive tables.';\n",
              "          element.innerHTML = '';\n",
              "          dataTable['output_type'] = 'display_data';\n",
              "          await google.colab.output.renderOutput(dataTable, element);\n",
              "          const docLink = document.createElement('div');\n",
              "          docLink.innerHTML = docLinkHtml;\n",
              "          element.appendChild(docLink);\n",
              "        }\n",
              "      </script>\n",
              "    </div>\n",
              "  </div>\n",
              "  "
            ]
          },
          "metadata": {},
          "execution_count": 6
        }
      ]
    },
    {
      "cell_type": "code",
      "source": [
        "import seaborn as sns\n",
        "import matplotlib.pyplot as plt\n",
        "\n",
        "sns.lineplot(data=results, x=\"people\", y=\"distance\", hue=\"form\")\n",
        "plt.ylim(0, 200)\n",
        "plt.show()\n"
      ],
      "metadata": {
        "colab": {
          "base_uri": "https://localhost:8080/",
          "height": 283
        },
        "id": "Psi3GcWRJ4rn",
        "outputId": "e2d564bb-3c1b-4c8f-f1a1-f36a7438d889"
      },
      "execution_count": null,
      "outputs": [
        {
          "output_type": "display_data",
          "data": {
            "text/plain": [
              "<Figure size 432x288 with 1 Axes>"
            ],
            "image/png": "[encoded data removed]"
          },
          "metadata": {
            "needs_background": "light"
          }
        }
      ]
    },
    {
      "cell_type": "code",
      "source": [
        "sns.lineplot(data=results, x=\"people\", y=\"scream\", hue=\"form\")\n",
        "plt.ylim(0,10)\n",
        "plt.show()"
      ],
      "metadata": {
        "colab": {
          "base_uri": "https://localhost:8080/",
          "height": 283
        },
        "id": "eH3XlPOeUNKD",
        "outputId": "f93252a1-6df5-496c-b165-2934cb9efbac"
      },
      "execution_count": null,
      "outputs": [
        {
          "output_type": "display_data",
          "data": {
            "text/plain": [
              "<Figure size 432x288 with 1 Axes>"
            ],
            "image/png": "[encoded data removed]"
          },
          "metadata": {
            "needs_background": "light"
          }
        }
      ]
    },
    {
      "cell_type": "code",
      "source": [
        "results = parse_for(2)\n",
        "results.head()"
      ],
      "metadata": {
        "colab": {
          "base_uri": "https://localhost:8080/",
          "height": 206
        },
        "id": "n5G8CvT2V81W",
        "outputId": "cae89b79-187d-4d69-9731-14338c404f65"
      },
      "execution_count": null,
      "outputs": [
        {
          "output_type": "execute_result",
          "data": {
            "text/plain": [
              "   people       form   distance  scream\n",
              "0       4  rectangle   1.931371       3\n",
              "1       4      round   2.459098       3\n",
              "2       6  rectangle   5.320225       5\n",
              "3       6      round   5.702154       5\n",
              "4       8  rectangle  10.250047       5"
            ],
            "text/html": [
              "\n",
              "  <div id=\"df-96f7d008-1a98-4137-ab31-54da30f113a6\">\n",
              "    <div class=\"colab-df-container\">\n",
              "      <div>\n",
              "<style scoped>\n",
              "    .dataframe tbody tr th:only-of-type {\n",
              "        vertical-align: middle;\n",
              "    }\n",
              "\n",
              "    .dataframe tbody tr th {\n",
              "        vertical-align: top;\n",
              "    }\n",
              "\n",
              "    .dataframe thead th {\n",
              "        text-align: right;\n",
              "    }\n",
              "</style>\n",
              "<table border=\"1\" class=\"dataframe\">\n",
              "  <thead>\n",
              "    <tr style=\"text-align: right;\">\n",
              "      <th></th>\n",
              "      <th>people</th>\n",
              "      <th>form</th>\n",
              "      <th>distance</th>\n",
              "      <th>scream</th>\n",
              "    </tr>\n",
              "  </thead>\n",
              "  <tbody>\n",
              "    <tr>\n",
              "      <th>0</th>\n",
              "      <td>4</td>\n",
              "      <td>rectangle</td>\n",
              "      <td>1.931371</td>\n",
              "      <td>3</td>\n",
              "    </tr>\n",
              "    <tr>\n",
              "      <th>1</th>\n",
              "      <td>4</td>\n",
              "      <td>round</td>\n",
              "      <td>2.459098</td>\n",
              "      <td>3</td>\n",
              "    </tr>\n",
              "    <tr>\n",
              "      <th>2</th>\n",
              "      <td>6</td>\n",
              "      <td>rectangle</td>\n",
              "      <td>5.320225</td>\n",
              "      <td>5</td>\n",
              "    </tr>\n",
              "    <tr>\n",
              "      <th>3</th>\n",
              "      <td>6</td>\n",
              "      <td>round</td>\n",
              "      <td>5.702154</td>\n",
              "      <td>5</td>\n",
              "    </tr>\n",
              "    <tr>\n",
              "      <th>4</th>\n",
              "      <td>8</td>\n",
              "      <td>rectangle</td>\n",
              "      <td>10.250047</td>\n",
              "      <td>5</td>\n",
              "    </tr>\n",
              "  </tbody>\n",
              "</table>\n",
              "</div>\n",
              "      <button class=\"colab-df-convert\" onclick=\"convertToInteractive('df-96f7d008-1a98-4137-ab31-54da30f113a6')\"\n",
              "              title=\"Convert this dataframe to an interactive table.\"\n",
              "              style=\"display:none;\">\n",
              "        \n",
              "  <svg xmlns=\"http://www.w3.org/2000/svg\" height=\"24px\"viewBox=\"0 0 24 24\"\n",
              "       width=\"24px\">\n",
              "    <path d=\"M0 0h24v24H0V0z\" fill=\"none\"/>\n",
              "    <path d=\"M18.56 5.44l.94 2.06.94-2.06 2.06-.94-2.06-.94-.94-2.06-.94 2.06-2.06.94zm-11 1L8.5 8.5l.94-2.06 2.06-.94-2.06-.94L8.5 2.5l-.94 2.06-2.06.94zm10 10l.94 2.06.94-2.06 2.06-.94-2.06-.94-.94-2.06-.94 2.06-2.06.94z\"/><path d=\"M17.41 7.96l-1.37-1.37c-.4-.4-.92-.59-1.43-.59-.52 0-1.04.2-1.43.59L10.3 9.45l-7.72 7.72c-.78.78-.78 2.05 0 2.83L4 21.41c.39.39.9.59 1.41.59.51 0 1.02-.2 1.41-.59l7.78-7.78 2.81-2.81c.8-.78.8-2.07 0-2.86zM5.41 20L4 18.59l7.72-7.72 1.47 1.35L5.41 20z\"/>\n",
              "  </svg>\n",
              "      </button>\n",
              "      \n",
              "  <style>\n",
              "    .colab-df-container {\n",
              "      display:flex;\n",
              "      flex-wrap:wrap;\n",
              "      gap: 12px;\n",
              "    }\n",
              "\n",
              "    .colab-df-convert {\n",
              "      background-color: #E8F0FE;\n",
              "      border: none;\n",
              "      border-radius: 50%;\n",
              "      cursor: pointer;\n",
              "      display: none;\n",
              "      fill: #1967D2;\n",
              "      height: 32px;\n",
              "      padding: 0 0 0 0;\n",
              "      width: 32px;\n",
              "    }\n",
              "\n",
              "    .colab-df-convert:hover {\n",
              "      background-color: #E2EBFA;\n",
              "      box-shadow: 0px 1px 2px rgba(60, 64, 67, 0.3), 0px 1px 3px 1px rgba(60, 64, 67, 0.15);\n",
              "      fill: #174EA6;\n",
              "    }\n",
              "\n",
              "    [theme=dark] .colab-df-convert {\n",
              "      background-color: #3B4455;\n",
              "      fill: #D2E3FC;\n",
              "    }\n",
              "\n",
              "    [theme=dark] .colab-df-convert:hover {\n",
              "      background-color: #434B5C;\n",
              "      box-shadow: 0px 1px 3px 1px rgba(0, 0, 0, 0.15);\n",
              "      filter: drop-shadow(0px 1px 2px rgba(0, 0, 0, 0.3));\n",
              "      fill: #FFFFFF;\n",
              "    }\n",
              "  </style>\n",
              "\n",
              "      <script>\n",
              "        const buttonEl =\n",
              "          document.querySelector('#df-96f7d008-1a98-4137-ab31-54da30f113a6 button.colab-df-convert');\n",
              "        buttonEl.style.display =\n",
              "          google.colab.kernel.accessAllowed ? 'block' : 'none';\n",
              "\n",
              "        async function convertToInteractive(key) {\n",
              "          const element = document.querySelector('#df-96f7d008-1a98-4137-ab31-54da30f113a6');\n",
              "          const dataTable =\n",
              "            await google.colab.kernel.invokeFunction('convertToInteractive',\n",
              "                                                     [key], {});\n",
              "          if (!dataTable) return;\n",
              "\n",
              "          const docLinkHtml = 'Like what you see? Visit the ' +\n",
              "            '<a target=\"_blank\" href=https://colab.research.google.com/notebooks/data_table.ipynb>data table notebook</a>'\n",
              "            + ' to learn more about interactive tables.';\n",
              "          element.innerHTML = '';\n",
              "          dataTable['output_type'] = 'display_data';\n",
              "          await google.colab.output.renderOutput(dataTable, element);\n",
              "          const docLink = document.createElement('div');\n",
              "          docLink.innerHTML = docLinkHtml;\n",
              "          element.appendChild(docLink);\n",
              "        }\n",
              "      </script>\n",
              "    </div>\n",
              "  </div>\n",
              "  "
            ]
          },
          "metadata": {},
          "execution_count": 9
        }
      ]
    },
    {
      "cell_type": "code",
      "source": [
        "sns.lineplot(data=results, x=\"people\", y=\"scream\", hue=\"form\")\n",
        "plt.ylim(0,10)\n",
        "plt.show()"
      ],
      "metadata": {
        "colab": {
          "base_uri": "https://localhost:8080/",
          "height": 283
        },
        "id": "gco-HVx_W0IE",
        "outputId": "82f52fe2-daaf-4c36-b71f-3df19ce98c76"
      },
      "execution_count": null,
      "outputs": [
        {
          "output_type": "display_data",
          "data": {
            "text/plain": [
              "<Figure size 432x288 with 1 Axes>"
            ],
            "image/png": "[encoded data removed]"
          },
          "metadata": {
            "needs_background": "light"
          }
        }
      ]
    },
    {
      "cell_type": "code",
      "source": [],
      "metadata": {
        "id": "mtMoWyvHW4Si"
      },
      "execution_count": null,
      "outputs": []
    }
  ]
}